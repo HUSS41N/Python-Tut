{
 "cells": [
  {
   "cell_type": "code",
   "execution_count": null,
   "metadata": {},
   "outputs": [],
   "source": [
    "# Data types\n",
    "# 1. int (integers) eg. 1,2,3,4,5...... +/-\n",
    "# 2. float(floats) eg. 0.32,(decimal points)\n",
    "# 3. str(string) eg.characters or group of characters\n",
    "# 4. list(list/array) eg. [1,2,3,4,5]\n",
    "# 5. dict(dictonary) eg.{'key':'value'}\n",
    "# 6. tup(Tuples) eg.(1,2,3,4,5)\n",
    "# 7. set(sets) eg. {1,2,3,4,5}\n",
    "# 8. boolean(True/Flase) eg.(True/flase)"
   ]
  },
  {
   "cell_type": "code",
   "execution_count": 7,
   "metadata": {},
   "outputs": [
    {
     "name": "stdout",
     "output_type": "stream",
     "text": [
      "Hello\n"
     ]
    }
   ],
   "source": [
    "# Strings\n",
    "mystring = 'Hello'\n",
    "print(mystring)"
   ]
  },
  {
   "cell_type": "code",
   "execution_count": 13,
   "metadata": {},
   "outputs": [
    {
     "data": {
      "text/plain": [
       "'o'"
      ]
     },
     "execution_count": 13,
     "metadata": {},
     "output_type": "execute_result"
    }
   ],
   "source": [
    "# Indexing & Slicing\n",
    "# indexing - grabbing single charcter\n",
    "mystring[4]"
   ]
  },
  {
   "cell_type": "code",
   "execution_count": 18,
   "metadata": {},
   "outputs": [
    {
     "data": {
      "text/plain": [
       "'Hel'"
      ]
     },
     "execution_count": 18,
     "metadata": {},
     "output_type": "execute_result"
    }
   ],
   "source": [
    "#Slicing\n",
    "# Slicing gives you part of the string\n",
    "# mystring[0] + mystring[1] + mystring[2] very inefficenet way\n",
    "mystring[0:3]"
   ]
  },
  {
   "cell_type": "code",
   "execution_count": 21,
   "metadata": {},
   "outputs": [
    {
     "data": {
      "text/plain": [
       "'ADG'"
      ]
     },
     "execution_count": 21,
     "metadata": {},
     "output_type": "execute_result"
    }
   ],
   "source": [
    "yatin = 'ABCDEFGHIJ'\n",
    "# stepping \n",
    "#ACEGJ\n",
    "yatin[0:-1:3]\n",
    "# [start:stop:Step]"
   ]
  },
  {
   "cell_type": "code",
   "execution_count": 30,
   "metadata": {},
   "outputs": [
    {
     "data": {
      "text/plain": [
       "'IHB AS IOK'"
      ]
     },
     "execution_count": 30,
     "metadata": {},
     "output_type": "execute_result"
    }
   ],
   "source": [
    "# BHT HI IMPORTANT\n",
    "# given a string -> reverse a string\n",
    "shsta = 'KOI SA BHI'\n",
    "# Desired output 'IHB AS IOK'\n",
    "shsta[::-1]"
   ]
  },
  {
   "cell_type": "code",
   "execution_count": null,
   "metadata": {},
   "outputs": [],
   "source": []
  }
 ],
 "metadata": {
  "kernelspec": {
   "display_name": "Python 3",
   "language": "python",
   "name": "python3"
  },
  "language_info": {
   "codemirror_mode": {
    "name": "ipython",
    "version": 3
   },
   "file_extension": ".py",
   "mimetype": "text/x-python",
   "name": "python",
   "nbconvert_exporter": "python",
   "pygments_lexer": "ipython3",
   "version": "3.8.3"
  }
 },
 "nbformat": 4,
 "nbformat_minor": 4
}
