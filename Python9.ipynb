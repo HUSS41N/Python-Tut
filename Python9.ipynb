{
 "cells": [
  {
   "cell_type": "code",
   "execution_count": 9,
   "metadata": {},
   "outputs": [
    {
     "name": "stdout",
     "output_type": "stream",
     "text": [
      "Hello ! My name is Ganja\n"
     ]
    }
   ],
   "source": [
    "# if statement\n",
    "# If statements executes when the boolean condition is TRUE\n",
    "yatin = False\n",
    "if yatin:\n",
    "    print('Hello My name is Yatin')\n",
    "    print('Hello My name is Chintu')\n",
    "print('Hello ! My name is Ganja')  \n",
    "\n"
   ]
  },
  {
   "cell_type": "code",
   "execution_count": 10,
   "metadata": {},
   "outputs": [
    {
     "name": "stdout",
     "output_type": "stream",
     "text": [
      "NONONONONONONONON\n"
     ]
    }
   ],
   "source": [
    "if 5>10:\n",
    "    print('YEAHAHHAHAHHAH')\n",
    "else:\n",
    "    print('NONONONONONONONON')"
   ]
  },
  {
   "cell_type": "code",
   "execution_count": 11,
   "metadata": {},
   "outputs": [
    {
     "name": "stdout",
     "output_type": "stream",
     "text": [
      "OKOAKOAK\n"
     ]
    }
   ],
   "source": [
    "if 1 > 2:\n",
    "    print('JJOJOJ')\n",
    "elif 3>2:\n",
    "    print('OKOAKOAK')\n",
    "# elif....."
   ]
  },
  {
   "cell_type": "code",
   "execution_count": 12,
   "metadata": {},
   "outputs": [],
   "source": [
    "my_string = 'Yatin is Chintu'"
   ]
  },
  {
   "cell_type": "code",
   "execution_count": 13,
   "metadata": {},
   "outputs": [
    {
     "name": "stdout",
     "output_type": "stream",
     "text": [
      "Yatin is Chintu\n"
     ]
    }
   ],
   "source": [
    "print(my_string)"
   ]
  },
  {
   "cell_type": "code",
   "execution_count": 16,
   "metadata": {},
   "outputs": [],
   "source": [
    "length  = len(my_string)"
   ]
  },
  {
   "cell_type": "code",
   "execution_count": 18,
   "metadata": {},
   "outputs": [
    {
     "name": "stdout",
     "output_type": "stream",
     "text": [
      "OMG GU TURUR LOB\n"
     ]
    }
   ],
   "source": [
    "if length == 15:\n",
    "    print('OMG GU TURUR LOB')\n",
    "else:\n",
    "    print('SHIT| Here we go again')"
   ]
  },
  {
   "cell_type": "code",
   "execution_count": null,
   "metadata": {},
   "outputs": [],
   "source": []
  }
 ],
 "metadata": {
  "kernelspec": {
   "display_name": "Python 3",
   "language": "python",
   "name": "python3"
  },
  "language_info": {
   "codemirror_mode": {
    "name": "ipython",
    "version": 3
   },
   "file_extension": ".py",
   "mimetype": "text/x-python",
   "name": "python",
   "nbconvert_exporter": "python",
   "pygments_lexer": "ipython3",
   "version": "3.8.3"
  }
 },
 "nbformat": 4,
 "nbformat_minor": 4
}
