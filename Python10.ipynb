{
 "cells": [
  {
   "cell_type": "code",
   "execution_count": 7,
   "metadata": {},
   "outputs": [
    {
     "name": "stdin",
     "output_type": "stream",
     "text": [
      "What is your name? CHintu\n"
     ]
    },
    {
     "data": {
      "text/plain": [
       "'CHintu'"
      ]
     },
     "execution_count": 7,
     "metadata": {},
     "output_type": "execute_result"
    }
   ],
   "source": [
    "# INPUT\n",
    "input('What is your name?')"
   ]
  },
  {
   "cell_type": "code",
   "execution_count": 8,
   "metadata": {},
   "outputs": [
    {
     "name": "stdin",
     "output_type": "stream",
     "text": [
      "Waht is your name? Yatin\n"
     ]
    }
   ],
   "source": [
    "my_name = input('Waht is your name?')"
   ]
  },
  {
   "cell_type": "code",
   "execution_count": 9,
   "metadata": {},
   "outputs": [
    {
     "name": "stdout",
     "output_type": "stream",
     "text": [
      "Yatin\n"
     ]
    }
   ],
   "source": [
    "print(my_name)"
   ]
  },
  {
   "cell_type": "code",
   "execution_count": 17,
   "metadata": {},
   "outputs": [
    {
     "name": "stdin",
     "output_type": "stream",
     "text": [
      "Enter your age? 22\n"
     ]
    }
   ],
   "source": [
    "my_age = input('Enter your age?')"
   ]
  },
  {
   "cell_type": "code",
   "execution_count": 20,
   "metadata": {},
   "outputs": [],
   "source": [
    "# Input function in python takes str values by default but we can change the values as per our need!!\n",
    "my_age = int(my_age)"
   ]
  },
  {
   "cell_type": "code",
   "execution_count": 21,
   "metadata": {},
   "outputs": [
    {
     "data": {
      "text/plain": [
       "int"
      ]
     },
     "execution_count": 21,
     "metadata": {},
     "output_type": "execute_result"
    }
   ],
   "source": [
    "type(my_age)"
   ]
  },
  {
   "cell_type": "code",
   "execution_count": 22,
   "metadata": {},
   "outputs": [
    {
     "name": "stdin",
     "output_type": "stream",
     "text": [
      "Enter a value of a 19\n"
     ]
    }
   ],
   "source": [
    "a = int(input('Enter a value of a'))"
   ]
  },
  {
   "cell_type": "code",
   "execution_count": 23,
   "metadata": {},
   "outputs": [
    {
     "data": {
      "text/plain": [
       "int"
      ]
     },
     "execution_count": 23,
     "metadata": {},
     "output_type": "execute_result"
    }
   ],
   "source": [
    "type(a)"
   ]
  },
  {
   "cell_type": "code",
   "execution_count": 24,
   "metadata": {},
   "outputs": [],
   "source": [
    "# Hussain's Club \n",
    "# -18 ---NO entry\n",
    "# 18 or 22 k bich ka h to andr to ja skta h pr daaru ni pee skta\n",
    "# 22+ to vo kch b kr skta h "
   ]
  },
  {
   "cell_type": "code",
   "execution_count": 28,
   "metadata": {},
   "outputs": [
    {
     "name": "stdout",
     "output_type": "stream",
     "text": [
      "Welcome to Hussain's CLUB\n"
     ]
    },
    {
     "name": "stdin",
     "output_type": "stream",
     "text": [
      "Enter you Age? 2\n"
     ]
    },
    {
     "name": "stdout",
     "output_type": "stream",
     "text": [
      "Sry! Mate you cant enter\n",
      "Come after you are 18 little boi\n"
     ]
    }
   ],
   "source": [
    "print(\"Welcome to Hussain's CLUB\")\n",
    "# ek or name kr k input lena h or print statement m name b print krwana h\n",
    "age = int(input('Enter you Age?'))\n",
    "if 18 > age:\n",
    "    print('Sry! Mate you cant enter')\n",
    "    print('Come after you are 18 little boi')\n",
    "elif age > 18 and 22 > age:\n",
    "    print('Yes you can ENTER pr Daar ni milegi')\n",
    "if age > 22 :\n",
    "    print('Have fun')"
   ]
  },
  {
   "cell_type": "code",
   "execution_count": null,
   "metadata": {},
   "outputs": [],
   "source": []
  },
  {
   "cell_type": "code",
   "execution_count": null,
   "metadata": {},
   "outputs": [],
   "source": []
  },
  {
   "cell_type": "code",
   "execution_count": 37,
   "metadata": {},
   "outputs": [
    {
     "name": "stdin",
     "output_type": "stream",
     "text": [
      "Enter your name? kite\n"
     ]
    },
    {
     "name": "stdout",
     "output_type": "stream",
     "text": [
      "Hello world kite\n"
     ]
    }
   ],
   "source": [
    "# Print statement\n",
    "name = input('Enter your name?')\n",
    "print('Hello world ' + name )\n"
   ]
  },
  {
   "cell_type": "code",
   "execution_count": 40,
   "metadata": {},
   "outputs": [
    {
     "name": "stdin",
     "output_type": "stream",
     "text": [
      "Enter your name? Yatin\n",
      "Enter your age? 22\n",
      "ENter name of your friend? Shaista\n"
     ]
    },
    {
     "name": "stdout",
     "output_type": "stream",
     "text": [
      "Hello my name is Yatin and i am 22 years old and my friend name is Shaista\n"
     ]
    }
   ],
   "source": [
    "name = input('Enter your name?')\n",
    "age = int(input('Enter your age?'))\n",
    "my_friend = input('ENter name of your friend?')\n",
    "# print('Hello my name is ' + name +' And I am ' + str(age) + ' Years old' + ' And my firnd name is ' + my_friend)\n",
    "print(f'Hello my name is {name} and i am {age} years old and my friend name is {my_friend}')"
   ]
  },
  {
   "cell_type": "code",
   "execution_count": null,
   "metadata": {},
   "outputs": [],
   "source": []
  }
 ],
 "metadata": {
  "kernelspec": {
   "display_name": "Python 3",
   "language": "python",
   "name": "python3"
  },
  "language_info": {
   "codemirror_mode": {
    "name": "ipython",
    "version": 3
   },
   "file_extension": ".py",
   "mimetype": "text/x-python",
   "name": "python",
   "nbconvert_exporter": "python",
   "pygments_lexer": "ipython3",
   "version": "3.8.3"
  }
 },
 "nbformat": 4,
 "nbformat_minor": 4
}
